{
  "nbformat": 4,
  "nbformat_minor": 0,
  "metadata": {
    "colab": {
      "provenance": [],
      "authorship_tag": "ABX9TyNCotKj09Z5JmHe0F3WZdkt",
      "include_colab_link": true
    },
    "kernelspec": {
      "name": "python3",
      "display_name": "Python 3"
    },
    "language_info": {
      "name": "python"
    }
  },
  "cells": [
    {
      "cell_type": "markdown",
      "metadata": {
        "id": "view-in-github",
        "colab_type": "text"
      },
      "source": [
        "<a href=\"https://colab.research.google.com/github/plaethos09/Animal/blob/main/Untitled0.ipynb\" target=\"_parent\"><img src=\"https://colab.research.google.com/assets/colab-badge.svg\" alt=\"Open In Colab\"/></a>"
      ]
    },
    {
      "cell_type": "code",
      "execution_count": null,
      "metadata": {
        "id": "ST9MLM4d9kfp"
      },
      "outputs": [],
      "source": [
        "import pandas as pd\n",
        "from sklearn.model_selection import train_test_split\n",
        "from sklearn.feature_extraction.text import TfidfVectorizer\n",
        "from sklearn.svm import SVC\n",
        "from sklearn.metrics import accuracy_score, classification_report\n",
        "from tensorflow.keras.preprocessing.text import Tokenizer\n",
        "from tensorflow.keras.preprocessing.sequence import pad_sequences\n",
        "from tensorflow.keras.models import Sequential\n",
        "from tensorflow.keras.layers import Embedding, Conv1D, GlobalMaxPooling1D, Dense\n",
        "from tensorflow.keras.callbacks import EarlyStopping"
      ]
    },
    {
      "cell_type": "code",
      "source": [
        "import re\n",
        "import nltk\n",
        "from nltk.corpus import stopwords\n",
        "\n",
        "# Download stopwords (if not already downloaded)\n",
        "nltk.download('stopwords')\n",
        "\n",
        "# Load Hinglish stop words\n",
        "stopwords_hinglish = set(\"stopwords.txt\")  # Replace \"your_stopwords\" with your actual list of Hinglish stopwords"
      ],
      "metadata": {
        "colab": {
          "base_uri": "https://localhost:8080/"
        },
        "id": "7IvCF61eZYPz",
        "outputId": "2824d332-8d81-4b35-fa6b-da1cb7a1cb27"
      },
      "execution_count": null,
      "outputs": [
        {
          "output_type": "stream",
          "name": "stderr",
          "text": [
            "[nltk_data] Downloading package stopwords to /root/nltk_data...\n",
            "[nltk_data]   Package stopwords is already up-to-date!\n"
          ]
        }
      ]
    },
    {
      "cell_type": "code",
      "source": [
        "# Load the dataset\n",
        "df = pd.read_csv(\"final_dataset_hinglish.csv\")\n",
        "\n",
        "# Load Hinglish stop words from file\n",
        "with open(\"stopwords.txt\", \"r\", encoding=\"utf-8\") as file:\n",
        "    stopwords_hinglish = set(file.read().splitlines())\n",
        "\n",
        "# Preprocess text data\n",
        "def preprocess_text(text):\n",
        "    # Convert to lowercase\n",
        "    text = text.lower()\n",
        "\n",
        "    # Remove special characters, numbers, and extra spaces\n",
        "    text = re.sub(r'[^a-zA-Z\\s]', '', text)\n",
        "\n",
        "    # Remove Hinglish stop words\n",
        "    text = ' '.join(word for word in text.split() if word not in stopwords_hinglish)\n",
        "\n",
        "    return text"
      ],
      "metadata": {
        "id": "twiBmCZd_czX"
      },
      "execution_count": null,
      "outputs": []
    },
    {
      "cell_type": "code",
      "source": [
        "df['preprocessed_text'] = df['headline'].apply(preprocess_text)\n",
        "\n",
        "# Split the dataset\n",
        "X_train, X_val, y_train, y_val = train_test_split(\n",
        "    df['preprocessed_text'], df['label'], test_size=0.2, random_state=42\n",
        ")\n",
        "\n",
        "# Tokenize text and pad sequences\n",
        "tokenizer = Tokenizer()\n",
        "tokenizer.fit_on_texts(X_train)\n",
        "X_train_seq = pad_sequences(tokenizer.texts_to_sequences(X_train), maxlen=50)\n",
        "X_val_seq = pad_sequences(tokenizer.texts_to_sequences(X_val), maxlen=50)\n"
      ],
      "metadata": {
        "id": "ywXGrvfYBZvH"
      },
      "execution_count": null,
      "outputs": []
    },
    {
      "cell_type": "code",
      "source": [
        "# Build CNN model\n",
        "model = Sequential()\n",
        "model.add(Embedding(input_dim=len(tokenizer.word_index) + 1, output_dim=50, input_length=50))\n",
        "model.add(Conv1D(128, 3, activation='relu'))\n",
        "model.add(GlobalMaxPooling1D())\n",
        "model.add(Dense(64, activation='relu'))\n",
        "model.add(Dense(1, activation='sigmoid'))\n",
        "\n",
        "# Compile the model\n",
        "model.compile(loss='binary_crossentropy', optimizer='adam', metrics=['accuracy'])\n",
        "\n",
        "# Define early stopping to prevent overfitting\n",
        "early_stopping = EarlyStopping(monitor='val_loss', patience=3, restore_best_weights=True)\n",
        "\n",
        "# Train the CNN model\n",
        "model.fit(X_train_seq, y_train, epochs=10, validation_data=(X_val_seq, y_val), callbacks=[early_stopping])\n",
        "\n",
        "# Save the trained model\n",
        "model.save('cyber_model.h5')\n",
        "\n",
        "# Extract features from the CNN model\n",
        "cnn_features_train = model.predict(X_train_seq)\n",
        "cnn_features_val = model.predict(X_val_seq)\n",
        "\n",
        "# Drop rows with missing labels in y_val\n",
        "valid_indices = ~pd.isnull(y_val)\n",
        "y_val_cleaned = y_val[valid_indices]\n",
        "cnn_features_val_cleaned = cnn_features_val[valid_indices]"
      ],
      "metadata": {
        "colab": {
          "base_uri": "https://localhost:8080/"
        },
        "id": "enxTkQ3ReflI",
        "outputId": "c2be6700-c998-4e1f-97ac-07b8b3739447"
      },
      "execution_count": null,
      "outputs": [
        {
          "output_type": "stream",
          "name": "stdout",
          "text": [
            "Epoch 1/10\n",
            "260/260 [==============================] - 8s 26ms/step - loss: -5522.7412 - accuracy: 0.1865 - val_loss: nan - val_accuracy: 0.1821\n",
            "Epoch 2/10\n",
            "260/260 [==============================] - 5s 21ms/step - loss: -271128.8750 - accuracy: 0.1867 - val_loss: nan - val_accuracy: 0.1821\n",
            "Epoch 3/10\n",
            "260/260 [==============================] - 6s 24ms/step - loss: -2040517.1250 - accuracy: 0.1867 - val_loss: nan - val_accuracy: 0.1821\n",
            "260/260 [==============================] - 1s 3ms/step\n",
            "65/65 [==============================] - 0s 3ms/step\n"
          ]
        }
      ]
    },
    {
      "cell_type": "code",
      "source": [
        "import joblib\n",
        "# Train an SVM classifier\n",
        "svm_model = SVC(kernel='linear')\n",
        "svm_model.fit(cnn_features_train, y_train)\n",
        "\n",
        "# Save the SVM model\n",
        "joblib.dump(svm_model, 'svm_model.pkl')\n",
        "\n",
        "# Evaluate the model\n",
        "y_pred = svm_model.predict(cnn_features_val_cleaned)\n",
        "print(\"Accuracy:\", accuracy_score(y_val_cleaned, y_pred))\n",
        "print(\"Classification Report:\\n\", classification_report(y_val_cleaned, y_pred))\n"
      ],
      "metadata": {
        "colab": {
          "base_uri": "https://localhost:8080/"
        },
        "id": "GtmzI9GWe6fR",
        "outputId": "f66032b2-8380-497c-f182-e55f3ed1670b"
      },
      "execution_count": null,
      "outputs": [
        {
          "output_type": "stream",
          "name": "stdout",
          "text": [
            "Accuracy: 0.8178313253012048\n",
            "Classification Report:\n",
            "               precision    recall  f1-score   support\n",
            "\n",
            "        -1.0       0.82      1.00      0.90      1697\n",
            "         0.0       0.00      0.00      0.00       378\n",
            "\n",
            "    accuracy                           0.82      2075\n",
            "   macro avg       0.41      0.50      0.45      2075\n",
            "weighted avg       0.67      0.82      0.74      2075\n",
            "\n"
          ]
        },
        {
          "output_type": "stream",
          "name": "stderr",
          "text": [
            "/usr/local/lib/python3.10/dist-packages/sklearn/metrics/_classification.py:1344: UndefinedMetricWarning: Precision and F-score are ill-defined and being set to 0.0 in labels with no predicted samples. Use `zero_division` parameter to control this behavior.\n",
            "  _warn_prf(average, modifier, msg_start, len(result))\n",
            "/usr/local/lib/python3.10/dist-packages/sklearn/metrics/_classification.py:1344: UndefinedMetricWarning: Precision and F-score are ill-defined and being set to 0.0 in labels with no predicted samples. Use `zero_division` parameter to control this behavior.\n",
            "  _warn_prf(average, modifier, msg_start, len(result))\n",
            "/usr/local/lib/python3.10/dist-packages/sklearn/metrics/_classification.py:1344: UndefinedMetricWarning: Precision and F-score are ill-defined and being set to 0.0 in labels with no predicted samples. Use `zero_division` parameter to control this behavior.\n",
            "  _warn_prf(average, modifier, msg_start, len(result))\n"
          ]
        }
      ]
    },
    {
      "cell_type": "code",
      "source": [
        "import joblib\n",
        "import re\n",
        "from tensorflow.keras.preprocessing.sequence import pad_sequences\n"
      ],
      "metadata": {
        "id": "hmOkFGgIhyzv"
      },
      "execution_count": null,
      "outputs": []
    },
    {
      "cell_type": "code",
      "source": [
        "import joblib\n",
        "import re\n",
        "from tensorflow.keras.preprocessing.sequence import pad_sequences\n",
        "from tensorflow.keras.models import load_model  # Import the load_model function\n",
        "\n",
        "# Load the trained tokenizer\n",
        "tokenizer = Tokenizer()\n",
        "tokenizer.fit_on_texts(X_train)  # Assuming X_train is your training data\n",
        "comment_seq = pad_sequences(tokenizer.texts_to_sequences([\"fuck you\"]), maxlen=50)\n",
        "\n",
        "# Load the trained CNN model\n",
        "cnn_model = load_model('/content/cyber_model.h5')  # Replace with your actual model path\n",
        "\n",
        "# Load the trained SVM model\n",
        "svm_model = joblib.load('svm_model.pkl')  # Replace with your actual SVM model path\n",
        "\n",
        "# Get CNN features for the new comment\n",
        "cnn_features = cnn_model.predict(comment_seq)\n",
        "\n",
        "# Predict using SVM model\n",
        "prediction = svm_model.predict(cnn_features)\n",
        "\n",
        "if prediction == 1:\n",
        "    print(\"The new comment is related to cyberbullying.\")\n",
        "else:\n",
        "    print(\"The new comment is not related to cyberbullying.\")\n"
      ],
      "metadata": {
        "colab": {
          "base_uri": "https://localhost:8080/"
        },
        "id": "oR2OZWL7h1Or",
        "outputId": "36dd99e1-1a44-483a-b99f-d16b4997ae98"
      },
      "execution_count": 64,
      "outputs": [
        {
          "output_type": "stream",
          "name": "stdout",
          "text": [
            "1/1 [==============================] - 0s 111ms/step\n",
            "The new comment is not related to cyberbullying.\n"
          ]
        }
      ]
    }
  ]
}